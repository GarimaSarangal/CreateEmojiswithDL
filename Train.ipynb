{
 "cells": [
  {
   "cell_type": "code",
   "execution_count": 1,
   "metadata": {},
   "outputs": [],
   "source": [
    "import numpy as np\n",
    "import cv2\n",
    "\n",
    "import tensorflow as tf\n",
    "from tensorflow import keras\n",
    "from tensorflow.keras.layers import Dense, Flatten, Dropout, BatchNormalization\n",
    "from tensorflow.keras.preprocessing.image import ImageDataGenerator\n",
    "from tensorflow.keras import Sequential\n",
    "from tensorflow.keras.callbacks import ModelCheckpoint\n",
    "from tensorflow.keras.layers import Conv2D, MaxPooling2D"
   ]
  },
  {
   "cell_type": "code",
   "execution_count": 7,
   "metadata": {},
   "outputs": [
    {
     "name": "stdout",
     "output_type": "stream",
     "text": [
      "Found 28709 images belonging to 7 classes.\n",
      "Found 7178 images belonging to 7 classes.\n"
     ]
    }
   ],
   "source": [
    "train_path = 'train'\n",
    "test_path = 'test'\n",
    "\n",
    "\n",
    "train_datagen = ImageDataGenerator(rescale = 1./255)\n",
    "test_datagen = ImageDataGenerator(rescale = 1./255)\n",
    "\n",
    "\n",
    "train_generator = train_datagen.flow_from_directory(\n",
    "                    train_path,\n",
    "                    target_size = (48,48),\n",
    "                    batch_size = 64, \n",
    "                    color_mode = 'grayscale',\n",
    "                    class_mode = 'categorical'\n",
    "                )\n",
    "\n",
    "test_generator = test_datagen.flow_from_directory(\n",
    "                    test_path,\n",
    "                    target_size = (48,48),\n",
    "                    batch_size = 64, \n",
    "                    color_mode = 'grayscale',\n",
    "                    class_mode = 'categorical'\n",
    "                )\n",
    "\n",
    "\n",
    "checkpoint = ModelCheckpoint('model_checkpoint', save_best_only = True, save_weights_only = True, monitor = \"val_loss\")"
   ]
  },
  {
   "cell_type": "code",
   "execution_count": 8,
   "metadata": {},
   "outputs": [],
   "source": [
    "model = Sequential()\n",
    "\n",
    "model.add(Conv2D(32, kernel_size = (3,3), activation = \"relu\", input_shape= (48,48,1)))\n",
    "model.add(Conv2D(64, kernel_size = (3,3), activation= \"relu\"))\n",
    "model.add(MaxPooling2D(pool_size=(2,2)))\n",
    "model.add(Dropout(0.25))\n",
    "\n",
    "\n",
    "model.add(Conv2D(128, kernel_size = (3,3), activation = \"relu\"))\n",
    "model.add(MaxPooling2D(pool_size=(2,2)))\n",
    "model.add(Conv2D(128, kernel_size = (3,3), activation= \"relu\"))\n",
    "model.add(MaxPooling2D(pool_size=(2,2)))\n",
    "model.add(Dropout(0.25))\n",
    "\n",
    "model.add(Flatten())\n",
    "model.add(Dense(1024, activation = \"relu\"))\n",
    "model.add(Dropout(0.5))\n",
    "model.add(Dense(7,activation=\"softmax\"))"
   ]
  },
  {
   "cell_type": "code",
   "execution_count": 9,
   "metadata": {},
   "outputs": [
    {
     "name": "stdout",
     "output_type": "stream",
     "text": [
      "WARNING:tensorflow:sample_weight modes were coerced from\n",
      "  ...\n",
      "    to  \n",
      "  ['...']\n",
      "WARNING:tensorflow:sample_weight modes were coerced from\n",
      "  ...\n",
      "    to  \n",
      "  ['...']\n",
      "Train for 448 steps, validate for 112 steps\n",
      "Epoch 1/20\n",
      "448/448 [==============================] - 16s 35ms/step - loss: 1.7219 - accuracy: 0.3030 - val_loss: 1.5012 - val_accuracy: 0.4272\n",
      "Epoch 2/20\n",
      "448/448 [==============================] - 14s 32ms/step - loss: 1.4134 - accuracy: 0.4529 - val_loss: 1.2877 - val_accuracy: 0.5057\n",
      "Epoch 3/20\n",
      "448/448 [==============================] - 14s 31ms/step - loss: 1.2644 - accuracy: 0.5165 - val_loss: 1.1976 - val_accuracy: 0.5426\n",
      "Epoch 4/20\n",
      "448/448 [==============================] - 14s 31ms/step - loss: 1.1925 - accuracy: 0.5455 - val_loss: 1.1567 - val_accuracy: 0.5610\n",
      "Epoch 5/20\n",
      "448/448 [==============================] - 14s 31ms/step - loss: 1.1375 - accuracy: 0.5677 - val_loss: 1.1335 - val_accuracy: 0.5663\n",
      "Epoch 6/20\n",
      "448/448 [==============================] - 14s 31ms/step - loss: 1.0882 - accuracy: 0.5880 - val_loss: 1.1153 - val_accuracy: 0.5752\n",
      "Epoch 7/20\n",
      "448/448 [==============================] - 14s 31ms/step - loss: 1.0466 - accuracy: 0.6036 - val_loss: 1.1003 - val_accuracy: 0.5889\n",
      "Epoch 8/20\n",
      "448/448 [==============================] - 14s 31ms/step - loss: 1.0089 - accuracy: 0.6190 - val_loss: 1.0693 - val_accuracy: 0.6004\n",
      "Epoch 9/20\n",
      "448/448 [==============================] - 14s 31ms/step - loss: 0.9677 - accuracy: 0.6367 - val_loss: 1.0597 - val_accuracy: 0.6037\n",
      "Epoch 10/20\n",
      "448/448 [==============================] - 14s 31ms/step - loss: 0.9292 - accuracy: 0.6529 - val_loss: 1.0625 - val_accuracy: 0.6056\n",
      "Epoch 11/20\n",
      "448/448 [==============================] - 14s 32ms/step - loss: 0.8905 - accuracy: 0.6703 - val_loss: 1.0579 - val_accuracy: 0.6039\n",
      "Epoch 12/20\n",
      "448/448 [==============================] - 14s 32ms/step - loss: 0.8580 - accuracy: 0.6797 - val_loss: 1.0605 - val_accuracy: 0.6106\n",
      "Epoch 13/20\n",
      "448/448 [==============================] - 14s 31ms/step - loss: 0.8271 - accuracy: 0.6874 - val_loss: 1.0738 - val_accuracy: 0.6085\n",
      "Epoch 14/20\n",
      "448/448 [==============================] - 13s 30ms/step - loss: 0.7983 - accuracy: 0.6997 - val_loss: 1.0708 - val_accuracy: 0.6140\n",
      "Epoch 15/20\n",
      "448/448 [==============================] - 13s 30ms/step - loss: 0.7638 - accuracy: 0.7139 - val_loss: 1.0775 - val_accuracy: 0.6071\n",
      "Epoch 16/20\n",
      "448/448 [==============================] - 13s 30ms/step - loss: 0.7338 - accuracy: 0.7263 - val_loss: 1.0716 - val_accuracy: 0.6169\n",
      "Epoch 17/20\n",
      "448/448 [==============================] - 14s 30ms/step - loss: 0.7092 - accuracy: 0.7358 - val_loss: 1.0793 - val_accuracy: 0.6198\n",
      "Epoch 18/20\n",
      "448/448 [==============================] - 14s 31ms/step - loss: 0.6912 - accuracy: 0.7430 - val_loss: 1.0798 - val_accuracy: 0.6189\n",
      "Epoch 19/20\n",
      "448/448 [==============================] - 14s 31ms/step - loss: 0.6679 - accuracy: 0.7547 - val_loss: 1.0904 - val_accuracy: 0.6177\n",
      "Epoch 20/20\n",
      "448/448 [==============================] - 14s 32ms/step - loss: 0.6391 - accuracy: 0.7640 - val_loss: 1.0883 - val_accuracy: 0.6244\n"
     ]
    },
    {
     "data": {
      "text/plain": [
       "<tensorflow.python.keras.callbacks.History at 0x213f3b9d4c8>"
      ]
     },
     "execution_count": 9,
     "metadata": {},
     "output_type": "execute_result"
    }
   ],
   "source": [
    "model.compile(loss = \"categorical_crossentropy\" , optimizer = \"adam\", metrics = ['accuracy'])\n",
    "\n",
    "model.fit_generator(train_generator, epochs = 20 , steps_per_epoch = 28709//64, validation_data = test_generator, validation_steps = 7178//64, callbacks=[checkpoint]) "
   ]
  },
  {
   "cell_type": "code",
   "execution_count": 10,
   "metadata": {},
   "outputs": [],
   "source": [
    "model.save_weights('model.h5')"
   ]
  },
  {
   "cell_type": "code",
   "execution_count": 12,
   "metadata": {},
   "outputs": [],
   "source": [
    "cv2.ocl.setUseOpenCL(False)\n",
    "\n",
    "emotion_dict = {0: \"Angry\", 1: \"Disgusted\", 2: \"Fearful\", 3: \"Happy\", 4: \"Neutral\", 5: \"Sad\", 6: \"Surprised\"}\n",
    "\n",
    "cap = cv2.VideoCapture(0)\n",
    "while(True):\n",
    "    ret, frame = cap.read()\n",
    "    \n",
    "    if ret is False:\n",
    "        break\n",
    "    bounding_box = cv2.CascadeClassifier(r'C:\\Users\\garim\\.conda\\haarcascade_frontalface_default.xml')        \n",
    "    gray_frame = cv2.cvtColor(frame, cv2.COLOR_BGR2gray_frame)\n",
    "    num_faces = bounding_box.detectMultiScale(gray_frame,1.3,5)\n",
    "    \n",
    "    for (x, y, w, h) in num_faces:\n",
    "        cv2.rectangle(frame, (x, y-50), (x+w, y+h+10), (255, 0, 0), 2)\n",
    "        roi_gray_frame = gray_frame[y:y + h, x:x + w]\n",
    "        cropped_img = np.expand_dims(np.expand_dims(cv2.resize(roi_gray_frame, (48, 48)), -1), 0)\n",
    "        emotion_prediction = emotion_model.predict(cropped_img)\n",
    "        maxindex = int(np.argmax(emotion_prediction))\n",
    "        cv2.putText(frame, emotion_dict[maxindex], (x+20, y-60), cv2.FONT_HERSHEY_SIMPLEX, 1, (255, 255, 255), 2, cv2.LINE_AA)\n",
    "\n",
    "    cv2.imshow('Video', cv2.resize(frame,(1200,860),interpolation = cv2.INTER_CUBIC))\n",
    "    if cv2.waitKey(1) & 0xFF == ord('q'):\n",
    "        break\n",
    "    \n",
    "cap.release()\n",
    "cv2.destroyAllWindows()\n",
    "    "
   ]
  },
  {
   "cell_type": "code",
   "execution_count": null,
   "metadata": {},
   "outputs": [],
   "source": []
  }
 ],
 "metadata": {
  "kernelspec": {
   "display_name": "tensorflow",
   "language": "python",
   "name": "tensorflow"
  },
  "language_info": {
   "codemirror_mode": {
    "name": "ipython",
    "version": 3
   },
   "file_extension": ".py",
   "mimetype": "text/x-python",
   "name": "python",
   "nbconvert_exporter": "python",
   "pygments_lexer": "ipython3",
   "version": "3.7.7"
  }
 },
 "nbformat": 4,
 "nbformat_minor": 4
}
